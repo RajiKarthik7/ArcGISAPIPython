{
 "cells": [
  {
   "cell_type": "markdown",
   "metadata": {},
   "source": [
    "# My First Map"
   ]
  },
  {
   "cell_type": "code",
   "execution_count": 1,
   "metadata": {},
   "outputs": [],
   "source": [
    "from arcgis.gis import GIS "
   ]
  },
  {
   "cell_type": "code",
   "execution_count": 2,
   "metadata": {},
   "outputs": [],
   "source": [
    "gis=GIS()"
   ]
  },
  {
   "cell_type": "code",
   "execution_count": 27,
   "metadata": {},
   "outputs": [
    {
     "data": {
      "application/vnd.jupyter.widget-view+json": {
       "model_id": "9e975ec03bd949228eb254abf0fc811b",
       "version_major": 2,
       "version_minor": 0
      },
      "text/plain": [
       "MapView(layout=Layout(height='400px', width='100%'))"
      ]
     },
     "metadata": {},
     "output_type": "display_data"
    },
    {
     "data": {
      "text/html": [
       "<div class=\"map-static-img-preview-0e6ae6e5-d3e3-4d37-944a-dd7bcfeee8bb\"><img src=\"\"></img></div>"
      ],
      "text/plain": [
       "<IPython.core.display.HTML object>"
      ]
     },
     "metadata": {},
     "output_type": "display_data"
    },
    {
     "data": {
      "text/html": [
       "<div class=\"map-html-embed-preview-0e6ae6e5-d3e3-4d37-944a-dd7bcfeee8bb\"></div>"
      ],
      "text/plain": [
       "<IPython.core.display.HTML object>"
      ]
     },
     "metadata": {},
     "output_type": "display_data"
    }
   ],
   "source": [
    "map=gis.map(\"Indianapolis, IN\")\n",
    "map"
   ]
  },
  {
   "cell_type": "code",
   "execution_count": 28,
   "metadata": {},
   "outputs": [
    {
     "data": {
      "application/vnd.jupyter.widget-view+json": {
       "model_id": "9e975ec03bd949228eb254abf0fc811b",
       "version_major": 2,
       "version_minor": 0
      },
      "text/plain": [
       "MapView(jupyter_target='notebook', layout=Layout(height='400px', width='100%'), ready=True)"
      ]
     },
     "metadata": {},
     "output_type": "display_data"
    },
    {
     "data": {
      "text/html": [
       "<div class=\"map-static-img-preview-0e6ae6e5-d3e3-4d37-944a-dd7bcfeee8bb\"><img src=\"\"></img></div>"
      ],
      "text/plain": [
       "<IPython.core.display.HTML object>"
      ]
     },
     "metadata": {},
     "output_type": "display_data"
    },
    {
     "data": {
      "text/html": [
       "<div class=\"map-html-embed-preview-0e6ae6e5-d3e3-4d37-944a-dd7bcfeee8bb\"></div>"
      ],
      "text/plain": [
       "<IPython.core.display.HTML object>"
      ]
     },
     "metadata": {},
     "output_type": "display_data"
    }
   ],
   "source": [
    "map.center=[39.76413064710531, -86.16040944266692]\n",
    "map"
   ]
  },
  {
   "cell_type": "code",
   "execution_count": 29,
   "metadata": {},
   "outputs": [],
   "source": [
    "map.zoom=15"
   ]
  },
  {
   "cell_type": "code",
   "execution_count": 30,
   "metadata": {},
   "outputs": [
    {
     "data": {
      "text/plain": [
       "['dark-gray',\n",
       " 'dark-gray-vector',\n",
       " 'gray',\n",
       " 'gray-vector',\n",
       " 'hybrid',\n",
       " 'national-geographic',\n",
       " 'oceans',\n",
       " 'osm',\n",
       " 'satellite',\n",
       " 'streets',\n",
       " 'streets-navigation-vector',\n",
       " 'streets-night-vector',\n",
       " 'streets-relief-vector',\n",
       " 'streets-vector',\n",
       " 'terrain',\n",
       " 'topo',\n",
       " 'topo-vector']"
      ]
     },
     "execution_count": 30,
     "metadata": {},
     "output_type": "execute_result"
    }
   ],
   "source": [
    "map.basemaps"
   ]
  },
  {
   "cell_type": "code",
   "execution_count": 40,
   "metadata": {},
   "outputs": [
    {
     "data": {
      "application/vnd.jupyter.widget-view+json": {
       "model_id": "9e975ec03bd949228eb254abf0fc811b",
       "version_major": 2,
       "version_minor": 0
      },
      "text/plain": [
       "MapView(jupyter_target='notebook', layout=Layout(height='400px', width='100%'), ready=True)"
      ]
     },
     "metadata": {},
     "output_type": "display_data"
    },
    {
     "data": {
      "text/html": [
       "<div class=\"map-static-img-preview-0e6ae6e5-d3e3-4d37-944a-dd7bcfeee8bb\"><img src=\"\"></img></div>"
      ],
      "text/plain": [
       "<IPython.core.display.HTML object>"
      ]
     },
     "metadata": {},
     "output_type": "display_data"
    },
    {
     "data": {
      "text/html": [
       "<div class=\"map-html-embed-preview-0e6ae6e5-d3e3-4d37-944a-dd7bcfeee8bb\"></div>"
      ],
      "text/plain": [
       "<IPython.core.display.HTML object>"
      ]
     },
     "metadata": {},
     "output_type": "display_data"
    }
   ],
   "source": [
    "map.basemaps='streets-navigation-vector'\n",
    "map"
   ]
  },
  {
   "cell_type": "code",
   "execution_count": 32,
   "metadata": {},
   "outputs": [
    {
     "data": {
      "text/plain": [
       "[<Item title:\"Mt Paran Points\" type:Feature Layer Collection owner:aelbashir>,\n",
       " <Item title:\"Marion County Survey Points\" type:Feature Layer Collection owner:IndyGIS>]"
      ]
     },
     "execution_count": 32,
     "metadata": {},
     "output_type": "execute_result"
    }
   ],
   "source": [
    "POI_content=gis.content.search(\"Indianapolis POI\", item_type=\"Feature Layer\", max_items=10)\n",
    "POI_content"
   ]
  },
  {
   "cell_type": "code",
   "execution_count": 36,
   "metadata": {},
   "outputs": [
    {
     "data": {
      "text/html": [
       "<div class=\"item_container\" style=\"height: auto; overflow: hidden; border: 1px solid #cfcfcf; border-radius: 2px; background: #f6fafa; line-height: 1.21429em; padding: 10px;\">\n",
       "                    <div class=\"item_left\" style=\"width: 210px; float: left;\">\n",
       "                       <a href='https://www.arcgis.com/home/item.html?id=ab6069f7f238417492185f7236f5c918' target='_blank'>\n",
       "                        <img src='https://www.arcgis.com/sharing/rest//content/items/ab6069f7f238417492185f7236f5c918/info/thumbnail/thumbnail.png' class=\"itemThumbnail\">\n",
       "                       </a>\n",
       "                    </div>\n",
       "\n",
       "                    <div class=\"item_right\"     style=\"float: none; width: auto; overflow: hidden;\">\n",
       "                        <a href='https://www.arcgis.com/home/item.html?id=ab6069f7f238417492185f7236f5c918' target='_blank'><b>Mt Paran Points</b>\n",
       "                        </a>\n",
       "                        <br/>Points representing important locations for Mt. Paran Church in Indianapolis, IN.<img src='https://www.arcgis.com/home/js/jsapi/esri/css/images/item_type_icons/featureshosted16.png' style=\"vertical-align:middle;\">Feature Layer Collection by aelbashir\n",
       "                        <br/>Last Modified: July 12, 2021\n",
       "                        <br/>0 comments, 94 views\n",
       "                    </div>\n",
       "                </div>\n",
       "                "
      ],
      "text/plain": [
       "<Item title:\"Mt Paran Points\" type:Feature Layer Collection owner:aelbashir>"
      ]
     },
     "metadata": {},
     "output_type": "display_data"
    },
    {
     "data": {
      "text/html": [
       "<div class=\"item_container\" style=\"height: auto; overflow: hidden; border: 1px solid #cfcfcf; border-radius: 2px; background: #f6fafa; line-height: 1.21429em; padding: 10px;\">\n",
       "                    <div class=\"item_left\" style=\"width: 210px; float: left;\">\n",
       "                       <a href='https://www.arcgis.com/home/item.html?id=fd5431db22df42d2a6b43a0626b80c2a' target='_blank'>\n",
       "                        <img src='https://www.arcgis.com/sharing/rest//content/items/fd5431db22df42d2a6b43a0626b80c2a/info/thumbnail/thumbnail.png' class=\"itemThumbnail\">\n",
       "                       </a>\n",
       "                    </div>\n",
       "\n",
       "                    <div class=\"item_right\"     style=\"float: none; width: auto; overflow: hidden;\">\n",
       "                        <a href='https://www.arcgis.com/home/item.html?id=fd5431db22df42d2a6b43a0626b80c2a' target='_blank'><b>Marion County Survey Points</b>\n",
       "                        </a>\n",
       "                        <br/>Marion County, Indiana Survey Locations<img src='https://www.arcgis.com/home/js/jsapi/esri/css/images/item_type_icons/featureshosted16.png' style=\"vertical-align:middle;\">Feature Layer Collection by IndyGIS\n",
       "                        <br/>Last Modified: March 09, 2018\n",
       "                        <br/>0 comments, 282 views\n",
       "                    </div>\n",
       "                </div>\n",
       "                "
      ],
      "text/plain": [
       "<Item title:\"Marion County Survey Points\" type:Feature Layer Collection owner:IndyGIS>"
      ]
     },
     "metadata": {},
     "output_type": "display_data"
    }
   ],
   "source": [
    "from IPython.display import display\n",
    "for item in POI_content:\n",
    "    display(item)"
   ]
  },
  {
   "cell_type": "code",
   "execution_count": 38,
   "metadata": {},
   "outputs": [],
   "source": [
    "map.add_layer(POI_content[1])"
   ]
  },
  {
   "cell_type": "code",
   "execution_count": 39,
   "metadata": {},
   "outputs": [
    {
     "data": {
      "application/vnd.jupyter.widget-view+json": {
       "model_id": "9e975ec03bd949228eb254abf0fc811b",
       "version_major": 2,
       "version_minor": 0
      },
      "text/plain": [
       "MapView(jupyter_target='notebook', layout=Layout(height='400px', width='100%'), ready=True)"
      ]
     },
     "metadata": {},
     "output_type": "display_data"
    },
    {
     "data": {
      "text/html": [
       "<div class=\"map-static-img-preview-0e6ae6e5-d3e3-4d37-944a-dd7bcfeee8bb\"><img src=\"\"></img></div>"
      ],
      "text/plain": [
       "<IPython.core.display.HTML object>"
      ]
     },
     "metadata": {},
     "output_type": "display_data"
    },
    {
     "data": {
      "text/html": [
       "<div class=\"map-html-embed-preview-0e6ae6e5-d3e3-4d37-944a-dd7bcfeee8bb\"></div>"
      ],
      "text/plain": [
       "<IPython.core.display.HTML object>"
      ]
     },
     "metadata": {},
     "output_type": "display_data"
    }
   ],
   "source": [
    "map"
   ]
  }
 ],
 "metadata": {
  "kernelspec": {
   "display_name": "Python 3",
   "language": "python",
   "name": "python3"
  },
  "language_info": {
   "codemirror_mode": {
    "name": "ipython",
    "version": 3
   },
   "file_extension": ".py",
   "mimetype": "text/x-python",
   "name": "python",
   "nbconvert_exporter": "python",
   "pygments_lexer": "ipython3",
   "version": "3.8.5"
  }
 },
 "nbformat": 4,
 "nbformat_minor": 4
}
